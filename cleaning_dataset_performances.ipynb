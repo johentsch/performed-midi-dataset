{
 "cells": [
  {
   "cell_type": "code",
   "execution_count": 1,
   "metadata": {},
   "outputs": [],
   "source": [
    "import os\n",
    "import sys\n",
    "# sys.path.append(\"../virtuosoNet\")\n",
    "# sys.path.append(\"C:\\\\Users\\\\fosca\\\\Desktop\\\\CNAM\\\\midi_beat_tracking\\\\FMP_0.1.0\")\n",
    "\n",
    "from pathlib import Path\n",
    "import pandas as pd\n",
    "import music21 as m21\n",
    "import pretty_midi as pm\n",
    "from  matplotlib import pyplot as plt\n",
    "# import LibFMP.B\n",
    "# import LibFMP.C2\n",
    "# import LibFMP.C6\n",
    "%matplotlib inline\n",
    "import numpy as np\n",
    "import math\n",
    "import pandas as pd\n",
    "import librosa\n",
    "import soundfile\n",
    "\n",
    "import IPython.display as ipd"
   ]
  },
  {
   "cell_type": "code",
   "execution_count": 2,
   "metadata": {},
   "outputs": [],
   "source": [
    "def cleaned_m2m_df(midi2midi_path):\n",
    "    m2mdf = pd.read_csv(midi2midi_path,sep=\"\\t\",skiprows=1,header=None, index_col=False)\n",
    "    m2mdf.columns =[\"alignID\", \"alignOntime\", \"alignSitch\" ,\"alignPitch\", \"alignOnvel\", \"refID\", \"refOntime\", \"refSitch\", \"refPitch\", \"refOnvel\",\"empty\"]\n",
    "    #drop the last column \"empty\"\n",
    "    m2mdf = m2mdf.drop(columns=[\"empty\"])\n",
    "    #drop the rows where the alignOntime is -1 (note not existing in both files midi)\n",
    "    return m2mdf[m2mdf[\"alignOntime\"] != -1]\n",
    "\n",
    "def generate_performance_annotations(m2m_df, cl_quant_ann):\n",
    "    #create the list with the time of all annotations\n",
    "    quant_ann_time_list = cl_quant_ann[\"time\"].tolist()\n",
    "    quant_ann_type_list = cl_quant_ann[\"type\"].tolist()\n",
    "    perf_ann_list = []\n",
    "    for i,at in enumerate(quant_ann_time_list):\n",
    "        p_ons=list(m2m_df[(m2m_df[\"refOntime\"]>at-0.020) & (m2m_df[\"refOntime\"]<at+0.020)][\"alignOntime\"]) #40 ms accepted window\n",
    "        if len(p_ons) == 0: #no note matching the ann position in the performance\n",
    "            perf_ann_list.append(None)\n",
    "            print(\"missing corrispondency at quant time\", at)\n",
    "        else:\n",
    "            perf_ann_list.append(np.mean(p_ons))\n",
    "\n",
    "    # clean the values that are smaller than the value before\n",
    "    for ind,at in enumerate(perf_ann_list[1:]):\n",
    "        if (ind >0) and (at is not None) and (perf_ann_list[ind-1] is not None) and (at < perf_ann_list[ind-1]) :\n",
    "            print(\"Unexpected value\",db,\"smaller than the previous\",perf_ann_list[ind-1])\n",
    "            perf_ann_list[ind] = None\n",
    "            \n",
    "    #interpolate to fill the None values\n",
    "    filled_at = pd.Series(unquant_dbs).interpolate().tolist()\n",
    "    \n",
    "    #associate the type of annotation\n",
    "    assert(len(quant_ann_type_list) == len(filled_at))\n",
    "    perd_ann_dict = dict(zip(filled_at, quant_ann_type_list))\n",
    "    \n",
    "    return perd_ann_dict"
   ]
  },
  {
   "cell_type": "code",
   "execution_count": null,
   "metadata": {},
   "outputs": [],
   "source": [
    "df = pd.read_"
   ]
  }
 ],
 "metadata": {
  "kernelspec": {
   "display_name": "Python 3",
   "language": "python",
   "name": "python3"
  },
  "language_info": {
   "codemirror_mode": {
    "name": "ipython",
    "version": 3
   },
   "file_extension": ".py",
   "mimetype": "text/x-python",
   "name": "python",
   "nbconvert_exporter": "python",
   "pygments_lexer": "ipython3",
   "version": "3.6.3"
  },
  "toc": {
   "base_numbering": 1,
   "nav_menu": {},
   "number_sections": true,
   "sideBar": true,
   "skip_h1_title": false,
   "title_cell": "Table of Contents",
   "title_sidebar": "Contents",
   "toc_cell": false,
   "toc_position": {},
   "toc_section_display": true,
   "toc_window_display": false
  },
  "varInspector": {
   "cols": {
    "lenName": 16,
    "lenType": 16,
    "lenVar": 40
   },
   "kernels_config": {
    "python": {
     "delete_cmd_postfix": "",
     "delete_cmd_prefix": "del ",
     "library": "var_list.py",
     "varRefreshCmd": "print(var_dic_list())"
    },
    "r": {
     "delete_cmd_postfix": ") ",
     "delete_cmd_prefix": "rm(",
     "library": "var_list.r",
     "varRefreshCmd": "cat(var_dic_list()) "
    }
   },
   "types_to_exclude": [
    "module",
    "function",
    "builtin_function_or_method",
    "instance",
    "_Feature"
   ],
   "window_display": false
  }
 },
 "nbformat": 4,
 "nbformat_minor": 2
}
